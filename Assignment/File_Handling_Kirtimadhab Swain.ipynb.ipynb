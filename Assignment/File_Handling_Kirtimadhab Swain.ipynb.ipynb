{
 "cells": [
  {
   "cell_type": "markdown",
   "metadata": {
    "id": "_bIkNbC2z8oL"
   },
   "source": [
    "# Objective\n",
    "The objective of this assignment is to read data from popular file formats (.csv, .txt, .json), to perform operations on this data, and to finally save this modified data into the original file formats."
   ]
  },
  {
   "cell_type": "markdown",
   "metadata": {
    "id": "TCi_8EQ_SKh2"
   },
   "source": [
    "# Pipeline that needs to be followed\n",
    "\n",
    "The overall objective of this project is to create a system for managing product information in an e-commerce platform. The different stages involved in the process are outlined below:\n",
    "\n",
    "### 1. Set up project and load data\n",
    "\n",
    "&emsp;**1.1** Import required libraries  \n",
    "&emsp;**1.2** Load the data\n",
    "\n",
    "### 2. Create or update data\n",
    "\n",
    "&emsp;**2.1** Add or update sales data  \n",
    "&emsp;**2.2** Add or update product details  \n",
    "&emsp;**2.3** Add or update product description  \n",
    "&emsp;**2.4** Update function\n",
    "\n",
    "### 3. Save data to disk\n",
    "\n",
    "&emsp;**3.1** Save data to disk\n"
   ]
  },
  {
   "cell_type": "markdown",
   "metadata": {
    "id": "nSDjItPDapX4"
   },
   "source": [
    "## **1.**  Set up project and load data  <font color = red>[15 marks]</font>\n",
    "\n",
    "In this stage, you will set up the environment for this assignment by loading the required modules and files. You will explore the files by displaying their content."
   ]
  },
  {
   "cell_type": "markdown",
   "metadata": {
    "id": "7fwAly7Kc9ei"
   },
   "source": [
    "### **1.1** - Import required modules  <font color = red>[5 marks]</font>"
   ]
  },
  {
   "cell_type": "markdown",
   "metadata": {
    "id": "mWz3KDiuotgp"
   },
   "source": [
    "### Description\n",
    "In this task, you will import all the necessary modules and packages required for performing various operations in the project."
   ]
  },
  {
   "cell_type": "code",
   "execution_count": 3,
   "metadata": {
    "id": "uKKJxfEj6o1C"
   },
   "outputs": [],
   "source": [
    "# Use this cell to import all the required packages and methods\n",
    "\n",
    "# Import package for navigating through files stored on your device/on Google Colaboratory\n",
    "import os\n",
    "\n",
    "# Import package for working with JSON files\n",
    "import json\n",
    "\n",
    "# Import package for working with CSV files\n",
    "import csv"
   ]
  },
  {
   "cell_type": "markdown",
   "metadata": {
    "id": "BOLRp-Ydph2X"
   },
   "source": [
    "### **1.2** Load the data  <font color = red>[10 marks]</font>"
   ]
  },
  {
   "cell_type": "markdown",
   "metadata": {
    "id": "n3LqSPrspl8b"
   },
   "source": [
    "### Description\n",
    "In this task, you will write a function that ensures that the necessary files are loaded into the environment. To index the data, you will use a unique identifier called SKU.\n",
    "\n",
    "This includes loading sales data from a CSV file, product details from JSON files, and product descriptions from text files. We recommend that you either use Jupyter Notebook or Google Colab to build and execute your code."
   ]
  },
  {
   "cell_type": "markdown",
   "metadata": {
    "id": "VQRLEoiZ-QxY"
   },
   "source": [
    "First, if you are using Google Colab, mount Google Drive to your VM. If not, skip and comment out this cell."
   ]
  },
  {
   "cell_type": "code",
   "execution_count": null,
   "metadata": {
    "id": "SKYzyofLO8KU"
   },
   "outputs": [],
   "source": [
    "# Use this cell to write your code for mounting your Google Drive\n",
    "# Note: If you are not using Google Colab, please skip this cell\n",
    "\n",
    "# In case you are using Google Colab, mount your Google Drive before moving on\n",
    "# from google.colab import drive\n",
    "# drive.mount('/content/drive', force_remount = True)"
   ]
  },
  {
   "cell_type": "markdown",
   "metadata": {
    "id": "EChyWcmq-5Vi"
   },
   "source": [
    "If you are using Colab, after mounting the drive you need to unzip the files to extract all the images inside it. Note that you don't need to perform this step more than once, so we recommend that you comment out your code for this step once it has executed."
   ]
  },
  {
   "cell_type": "code",
   "execution_count": null,
   "metadata": {
    "id": "-6mxIHoPO7Um"
   },
   "outputs": [],
   "source": [
    "# Use this cell to write your code for unzipping the data and storing it in Google Drive\n",
    "# Note: If you are not using Google Colab, please skip this cell\n",
    "# Note: You can comment out this cell after running it once\n",
    "\n",
    "# Unzip your files and store them in your drive\n",
    "# !unzip /content/drive/MyDrive/File_Handling_Project/mainfolder.zip"
   ]
  },
  {
   "cell_type": "markdown",
   "metadata": {
    "id": "LeX06K8AFxnC"
   },
   "source": [
    "**Alternatively,** you can also upload files to the Google Colab runtime environment without mounting Google Drive. In this case so you will always be in the same path/directory inside your Google Colab runtime. Files will be saved into your runtime and not into your Google Drive.\n",
    "The files you uploaded will be available until you delete the runtime."
   ]
  },
  {
   "cell_type": "code",
   "execution_count": null,
   "metadata": {
    "id": "eupwHKLZEE3b"
   },
   "outputs": [],
   "source": [
    "# Use this cell to write your code for uploading the zip file\n",
    "# Note: If you are not using Google Colab, please skip this cell\n",
    "\n",
    "# Upload the zip file to Google Colab runtime\n",
    "# from google.colab import files\n",
    "# uploaded = files.upload()"
   ]
  },
  {
   "cell_type": "markdown",
   "metadata": {
    "id": "ze-qtCwAGlhp"
   },
   "source": [
    "After uploading your zip file to Google Colab runtime you need to unzip the files to extract all the files inside it."
   ]
  },
  {
   "cell_type": "code",
   "execution_count": null,
   "metadata": {
    "id": "JpKP8qUVuC2n"
   },
   "outputs": [],
   "source": [
    "# Use this cell to write your code for unzipping the data and storing it in Google Colab runtime\n",
    "# Note: If you are not using Google Colab, please skip this cell\n",
    "# Note: You can comment out this cell after running it once\n",
    "\n",
    "# Unzip your files and store them in Google Colab runtime\n",
    "!unzip /content/mainfolder.zip"
   ]
  },
  {
   "cell_type": "markdown",
   "metadata": {
    "id": "DiYKN_QJlRBE"
   },
   "source": [
    "Now define the *load_data()* function."
   ]
  },
  {
   "cell_type": "code",
   "execution_count": 4,
   "metadata": {
    "id": "lh8skyqy7Qb6"
   },
   "outputs": [],
   "source": [
    "def load_data(main_folder):\n",
    "    product_details = {}\n",
    "    sales_data = {}\n",
    "    product_descriptions = {}\n",
    "\n",
    "    # ---- 1. Load sales_data.csv file----\n",
    "    csv_path = os.path.join(main_folder, \"sales_data.csv\")\n",
    "    with open(csv_path, \"r\") as f:\n",
    "        reader = csv.reader(f)\n",
    "        rows = list(reader)\n",
    "        header, *data = rows\n",
    "        for row in data:\n",
    "            sku = row[0]\n",
    "            sales_data[sku] = list(map(int, row[1:]))\n",
    "\n",
    "    # ---- 2. Load product_details JSON files ----\n",
    "    details_path = os.path.join(main_folder, \"product_details\")\n",
    "    for file in os.listdir(details_path):\n",
    "        if file.endswith(\".json\"):\n",
    "            sku = os.path.splitext(file)[0].replace(\"details_\", \"\")\n",
    "            file_path = os.path.join(details_path, file)\n",
    "            with open(file_path, \"r\") as f:\n",
    "                product_details[sku] = json.load(f)\n",
    "\n",
    "    # ---- 3. Load product_description TXT files ----\n",
    "    desc_path = os.path.join(main_folder, \"product_descriptions\")\n",
    "    for file in os.listdir(desc_path):\n",
    "        if file.endswith(\".txt\"):\n",
    "            sku = os.path.splitext(file)[0].replace(\"description_\", \"\")\n",
    "            file_path = os.path.join(desc_path, file)\n",
    "            with open(file_path, \"r\") as f:\n",
    "                product_descriptions[sku] = f.read()\n",
    "\n",
    "    return product_details, sales_data, product_descriptions\n",
    "    \n"
   ]
  },
  {
   "cell_type": "markdown",
   "metadata": {
    "id": "bRjwNJj67LP_"
   },
   "source": [
    "Load your data here"
   ]
  },
  {
   "cell_type": "code",
   "execution_count": 5,
   "metadata": {
    "id": "mkeH5Ba17Qmv"
   },
   "outputs": [],
   "source": [
    "# Use this cell to load the files\n",
    "main_folder_address = 'C:\\\\Users\\\\Admin\\\\Desktop\\\\Assignment'\n",
    "product_details, sales_data, product_descriptions = load_data(main_folder_address)"
   ]
  },
  {
   "cell_type": "markdown",
   "metadata": {
    "id": "-s3el3T2A41B"
   },
   "source": [
    "## **2.** Update data  <font color = red>[25 marks]</font>\n",
    "In this stage, you will define a function `update()` to add sales data, product details, and product descriptions for a new product or update an existing product. If the product does not exist, the function will default to creating a new product. If the product exists, the function will instead update that product. You will also define some sub-functions to complete smaller tasks."
   ]
  },
  {
   "cell_type": "markdown",
   "metadata": {
    "id": "KR9w5MtF2iuy"
   },
   "source": [
    "### **2.1** Update sales data  <font color = red>[5 marks]</font>"
   ]
  },
  {
   "cell_type": "markdown",
   "metadata": {
    "id": "3sv3srpNP0by"
   },
   "source": [
    "### Description\n",
    "In this task, you will write a function to add sales data for a new product or update sales data for an existing product given the SKU and the quantities that need to be added or updated."
   ]
  },
  {
   "cell_type": "code",
   "execution_count": 6,
   "metadata": {
    "id": "RdPeCXd22MJ5"
   },
   "outputs": [],
   "source": [
    "def update_sales_data(sales_data, sku, quantities):\n",
    "    if len(quantities) != 14:\n",
    "        raise ValueError(\"Quantities list must have exactly 14 integers (one per day).\")\n",
    "\n",
    "    # Add or update the SKU\n",
    "    sales_data[sku] = quantities\n",
    "\n",
    "    return sales_data"
   ]
  },
  {
   "cell_type": "markdown",
   "metadata": {
    "id": "vOvcL_J5Cn51"
   },
   "source": [
    "Check your code here."
   ]
  },
  {
   "cell_type": "code",
   "execution_count": 26,
   "metadata": {},
   "outputs": [
    {
     "data": {
      "text/plain": [
       "{'AISJDKFJW93NJ': [10, 12, 15, 18, 20, 22, 25, 28, 26, 30, 32, 29, 27, 24],\n",
       " 'DJKFIEI432FIE': [8, 10, 12, 15, 20, 18, 14, 13, 17, 10, 8, 11, 14, 16],\n",
       " 'GGOENEBJ079499': [15, 18, 22, 25, 28, 20, 17, 23, 19, 21, 24, 27, 18, 20],\n",
       " 'HJSKNWK429DJE': [30, 32, 35, 38, 40, 42, 45, 48, 50, 52, 55, 53, 49, 47],\n",
       " 'JFKL3940NFKLJ': [18, 20, 22, 25, 28, 30, 32, 35, 38, 36, 33, 29, 26, 24],\n",
       " 'LKDFJ49LSDJKL': [25, 28, 30, 32, 35, 38, 42, 40, 37, 34, 36, 31, 29, 27],\n",
       " 'MWKDI3JFK39SL': [30, 35, 40, 45, 50, 42, 37, 38, 41, 36, 33, 39, 40, 44],\n",
       " 'NEKFJOWE9FDIW': [12, 15, 18, 20, 22, 24, 21, 23, 25, 28, 30, 27, 26, 29],\n",
       " 'OWEJL398FWJLK': [20, 22, 25, 28, 30, 32, 35, 38, 36, 33, 29, 26, 24, 27],\n",
       " 'XPLFJW2490XJN': [5, 8, 9, 12, 15, 10, 14, 16, 20, 18, 22, 25, 19, 21]}"
      ]
     },
     "execution_count": 26,
     "metadata": {},
     "output_type": "execute_result"
    }
   ],
   "source": [
    "sales_data"
   ]
  },
  {
   "cell_type": "code",
   "execution_count": 29,
   "metadata": {
    "id": "Uzf-TuD5CqEm"
   },
   "outputs": [
    {
     "data": {
      "text/plain": [
       "{'AISJDKFJW93NJ': [10, 12, 15, 18, 20, 22, 25, 28, 26, 30, 32, 29, 27, 24],\n",
       " 'DJKFIEI432FIE': [8, 10, 12, 15, 20, 18, 14, 13, 17, 10, 8, 11, 14, 16],\n",
       " 'GGOENEBJ079499': [15, 18, 22, 25, 28, 20, 17, 23, 19, 21, 24, 27, 18, 20],\n",
       " 'HJSKNWK429DJE': [30, 32, 35, 38, 40, 42, 45, 48, 50, 52, 55, 53, 49, 47],\n",
       " 'JFKL3940NFKLJ': [18, 20, 22, 25, 28, 30, 32, 35, 38, 36, 33, 29, 26, 24],\n",
       " 'LKDFJ49LSDJKL': [25, 28, 30, 32, 35, 38, 42, 40, 37, 34, 36, 31, 29, 27],\n",
       " 'MWKDI3JFK39SL': [30, 35, 40, 45, 50, 42, 37, 38, 41, 36, 33, 39, 40, 44],\n",
       " 'NEKFJOWE9FDIW': [12, 15, 18, 20, 22, 24, 21, 23, 25, 28, 30, 27, 26, 29],\n",
       " 'OWEJL398FWJLK': [20, 22, 25, 28, 30, 32, 35, 38, 36, 33, 29, 26, 24, 27],\n",
       " 'XPLFJW2490XJN': [5, 8, 9, 12, 15, 10, 14, 16, 20, 18, 22, 25, 19, 21]}"
      ]
     },
     "execution_count": 29,
     "metadata": {},
     "output_type": "execute_result"
    }
   ],
   "source": [
    "sales_data = update_sales_data(sales_data,\n",
    "                                'AISJDKFJW93NJ',\n",
    "                                [10, 12, 15, 18, 20, 22, 25, 28, 26, 30, 32, 29, 27, 24])\n",
    "sales_data"
   ]
  },
  {
   "cell_type": "markdown",
   "metadata": {
    "id": "276dzYC32PIS"
   },
   "source": [
    "### **2.2** Update product details  <font color = red>[5 marks]</font>"
   ]
  },
  {
   "cell_type": "markdown",
   "metadata": {
    "id": "-I8sKosLT5sl"
   },
   "source": [
    "### Description\n",
    "In this task, you will write a function to add product details for a new product or update product details for an existing product using the product SKU."
   ]
  },
  {
   "cell_type": "code",
   "execution_count": 7,
   "metadata": {
    "id": "uiOO_eNr2PkA"
   },
   "outputs": [],
   "source": [
    "def update_product_details(product_details, sku, product_info):\n",
    "    if not isinstance(product_info, dict):\n",
    "        raise ValueError(\"product_info must be a dictionary containing product details.\")\n",
    "\n",
    "    # Add or update the SKU\n",
    "    product_details[sku] = product_info\n",
    "\n",
    "    return product_details"
   ]
  },
  {
   "cell_type": "markdown",
   "metadata": {
    "id": "cpYk9yK1Cq5H"
   },
   "source": [
    "Check your code here."
   ]
  },
  {
   "cell_type": "code",
   "execution_count": 8,
   "metadata": {
    "id": "6ljskEWSCrQq"
   },
   "outputs": [
    {
     "data": {
      "text/plain": [
       "{'AISJDKFJW93NJ': {'product_name': 'Wall Art Print1',\n",
       "  'brand': 'ArtCraft',\n",
       "  'model': 'NatureCanvas-1001',\n",
       "  'specifications': 'Canvas print, Ready to hang',\n",
       "  'price': '$49.99',\n",
       "  'availability': 'In stock'},\n",
       " 'DJKFIEI432FIE': {'product_name': \"Men's Running Shoes\",\n",
       "  'brand': 'RunFit',\n",
       "  'model': 'SpeedX-500',\n",
       "  'specifications': 'Size 10, Lightweight design, Breathable material',\n",
       "  'price': '$79.99',\n",
       "  'availability': 'In stock'},\n",
       " 'GGOENEBJ079499': {'product_name': 'Smartphone',\n",
       "  'brand': 'XYZ Electronics',\n",
       "  'model': 'ABC-2000',\n",
       "  'specifications': '6.5-inch display, 128GB storage, 16MP camera',\n",
       "  'price': '$499.99',\n",
       "  'availability': 'In stock'},\n",
       " 'HJSKNWK429DJE': {'product_name': 'Wireless Earbuds',\n",
       "  'brand': 'SoundSync',\n",
       "  'model': 'TunePro-2022',\n",
       "  'specifications': 'Bluetooth 5.0, 20 hours battery life, Touch controls',\n",
       "  'price': '$89.99',\n",
       "  'availability': 'In stock'},\n",
       " 'JFKL3940NFKLJ': {'product_name': 'Resistance Bands Set',\n",
       "  'brand': 'FitFlex',\n",
       "  'model': 'StrengthPro-300',\n",
       "  'specifications': '5 bands, Varying resistance levels, Portable',\n",
       "  'price': '$34.99',\n",
       "  'availability': 'In stock'},\n",
       " 'LKDFJ49LSDJKL': {'product_name': 'Anti-Aging Face Cream',\n",
       "  'brand': 'GlowBeauty',\n",
       "  'model': 'AgeDefy-300',\n",
       "  'specifications': 'Natural ingredients, Hydrating formula',\n",
       "  'price': '$39.99',\n",
       "  'availability': 'In stock'},\n",
       " 'MWKDI3JFK39SL': {'product_name': 'Fictional Novel',\n",
       "  'brand': 'BestBooks',\n",
       "  'model': None,\n",
       "  'specifications': 'Paperback, 300 pages',\n",
       "  'price': '$14.99',\n",
       "  'availability': 'In stock'},\n",
       " 'NEKFJOWE9FDIW': {'product_name': 'Board Game',\n",
       "  'brand': 'FamilyFun',\n",
       "  'model': 'GameNight-2022',\n",
       "  'specifications': '2-6 players, Ages 8 and up',\n",
       "  'price': '$29.99',\n",
       "  'availability': 'In stock'},\n",
       " 'OWEJL398FWJLK': {'product_name': 'Yoga Mat',\n",
       "  'brand': 'ZenFitness',\n",
       "  'model': 'EcoMat-500',\n",
       "  'specifications': 'Non-slip, 6mm thickness, Eco-friendly material',\n",
       "  'price': '$19.99',\n",
       "  'availability': 'In stock'},\n",
       " 'XPLFJW2490XJN': {'product_name': 'Robot Vacuum Cleaner',\n",
       "  'brand': 'CleanTech',\n",
       "  'model': 'AutoSweep-9000',\n",
       "  'specifications': 'Smart navigation, HEPA filter, 90 minutes runtime',\n",
       "  'price': '$249.99',\n",
       "  'availability': 'In stock'}}"
      ]
     },
     "execution_count": 8,
     "metadata": {},
     "output_type": "execute_result"
    }
   ],
   "source": [
    "product_info={\n",
    "    \"product_name\": \"Wall Art Print1\",\n",
    "    \"brand\": \"ArtCraft\",\n",
    "    \"model\": \"NatureCanvas-1001\",\n",
    "    \"specifications\": \"Canvas print, Ready to hang\",\n",
    "    \"price\": \"$49.99\",\n",
    "    \"availability\": \"In stock\"\n",
    "}\n",
    "\n",
    "product_details = update_product_details(product_details,\n",
    "                                          'AISJDKFJW93NJ',\n",
    "                                          product_info)\n",
    "product_details"
   ]
  },
  {
   "cell_type": "markdown",
   "metadata": {
    "id": "NbsIu0TT2R4H"
   },
   "source": [
    "### **2.3** Update product description  <font color = red>[5 marks]</font>"
   ]
  },
  {
   "cell_type": "markdown",
   "metadata": {
    "id": "eLsJVtWtT6Wn"
   },
   "source": [
    "### Description\n",
    "In this task, you will write a function to add a product description for the new product using its product SKU."
   ]
  },
  {
   "cell_type": "code",
   "execution_count": 13,
   "metadata": {
    "id": "gto9F0P82SIv"
   },
   "outputs": [],
   "source": [
    "def update_product_description(product_descriptions, sku, description):\n",
    "     if not isinstance(description, str):\n",
    "        raise ValueError(\"Description must be a string.\")\n",
    "\n",
    "     # Add or update the SKU\n",
    "     product_descriptions[sku] = description\n",
    "\n",
    "     return product_descriptions"
   ]
  },
  {
   "cell_type": "markdown",
   "metadata": {
    "id": "pDn1TCSLCr_R"
   },
   "source": [
    "Check your code here."
   ]
  },
  {
   "cell_type": "code",
   "execution_count": 19,
   "metadata": {
    "id": "4rm960DECsUF"
   },
   "outputs": [
    {
     "data": {
      "text/plain": [
       "{'AISJDKFJW93NJ': \"\\nKTransform your living space with ArtCraft's NatureCanvas-1001 Wall Art Print.\\nThis canvas print, ready to hang, brings the beauty of nature into your home.\\nWith dimensions of 16 x 20 inches and a 4.6/5 stars rating, it's a stunning addition to your decor, creating a focal point that captures attention and sparks conversation.\\n\",\n",
       " 'DJKFIEI432FIE': \"Elevate your running experience with the RunFit SpeedX-500 Men's Running Shoes.\\nDesigned for performance, these shoes feature a lightweight design, breathable material, and are available in vibrant Red, Blue, and classic Black.\\nWhether you're a seasoned runner or just starting, these shoes provide comfort and support for every stride, ensuring you reach new milestones effortlessly.\",\n",
       " 'GGOENEBJ079499': 'Dive into the future with the XYZ Electronics Smartphone, model ABC-2000.\\nBoasting a 6.5-inch display, 128GB storage, and a 16MP camera, this powerful device redefines the smartphone experience.\\nWith a sleek design and available in Black, Silver, and Blue, it combines cutting-edge technology with style, ensuring you stay connected in the most sophisticated way possible.',\n",
       " 'HJSKNWK429DJE': \"Immerse yourself in superior audio quality with SoundSync's TunePro-2022 Wireless Earbuds.\\nFeaturing Bluetooth 5.0, 20 hours of battery life, and touch controls, these earbuds deliver a seamless and immersive listening experience.\\nAvailable in Black and White, they combine style with functionality for music lovers on the go. \\nWith a 4.7/5 stars rating, they stand out as a top choice in the realm of wireless audio.\",\n",
       " 'JFKL3940NFKLJ': \"Embrace versatility in your workouts with FitFlex's StrengthPro-300 Resistance Bands Set.\\nWith 5 bands offering varying resistance levels and portability, this set is your go-to for effective strength training.\\nAvailable in Red, Yellow, and Blue, it caters to different fitness levels and adds a dynamic dimension to your exercise routine.\",\n",
       " 'LKDFJ49LSDJKL': \"Rediscover youthful radiance with GlowBeauty's AgeDefy-300 Anti-Aging Face Cream.\\nFormulated with natural ingredients and a hydrating formula, this skincare essential rejuvenates and nourishes your skin, leaving you with a vibrant and refreshed complexion.\\nWith a stellar 4.7/5 stars rating, it's a must-have for those embracing the journey to ageless beauty.\",\n",
       " 'MWKDI3JFK39SL': \"Immerse yourself in the world of storytelling with BestBooks' Fictional Novel.\\nThis paperback, spanning 300 pages, promises a captivating journey through the pages of an engaging narrative.\\nIdeal for avid readers seeking an escape, this novel, with a 4.6/5 stars rating, is a testament to its ability to weave a compelling tale that keeps you hooked until the last page.\",\n",
       " 'NEKFJOWE9FDIW': \"Unleash the fun with FamilyFun's GameNight-2022 Board Game.\\nDesigned for 2-6 players and suitable for ages 8 and up, this exciting game promises laughter and bonding moments for the entire family.\\nWith a 4.4/5 stars rating, it's a testament to its ability to turn any ordinary night into an extraordinary game night filled with friendly competition and shared joy.\",\n",
       " 'OWEJL398FWJLK': \"Elevate your yoga practice with ZenFitness' EcoMat-500 Yoga Mat.\\nFeaturing a non-slip surface, 6mm thickness, and eco-friendly materials, this high-quality mat provides the perfect foundation for your workouts.\\nAvailable in Purple, Green, and Blue, it not only enhances your comfort but also adds a touch of serenity to your exercise routine.\",\n",
       " 'XPLFJW2490XJN': 'Introducing the CleanTech AutoSweep-9000 Robot Vacuum Cleaner â€“ your smart companion for automated cleaning.\\nWith smart navigation, a HEPA filter, and a runtime of 90 minutes, this efficient device takes care of your cleaning needs.\\nAvailable in White and Silver, it blends seamlessly into your home, making cleanliness a hassle-free experience.'}"
      ]
     },
     "execution_count": 19,
     "metadata": {},
     "output_type": "execute_result"
    }
   ],
   "source": [
    "valuet='''\n",
    "KTransform your living space with ArtCraft's NatureCanvas-1001 Wall Art Print.\n",
    "This canvas print, ready to hang, brings the beauty of nature into your home.\n",
    "With dimensions of 16 x 20 inches and a 4.6/5 stars rating, it's a stunning addition to your decor, creating a focal point that captures attention and sparks conversation.\n",
    "'''\n",
    "product_descriptions = update_product_description(product_descriptions,\n",
    "                                                  'AISJDKFJW93NJ',\n",
    "                                                  valuet)\n",
    "product_descriptions"
   ]
  },
  {
   "cell_type": "markdown",
   "metadata": {
    "id": "R5N6bVo82VF3"
   },
   "source": [
    "### **2.4** Update function  <font color = red>[10 marks]</font>"
   ]
  },
  {
   "cell_type": "markdown",
   "metadata": {
    "id": "a8ACLR0kT65r"
   },
   "source": [
    "### Description\n",
    "In this task, you will write a function that combines the functionalities of adding sales data, product details, and product description for a new product SKU, or updating these for an existing product SKU."
   ]
  },
  {
   "cell_type": "code",
   "execution_count": 2,
   "metadata": {
    "id": "-nqyMs8IPhnR"
   },
   "outputs": [],
   "source": [
    "def update(product_details, sales_data, product_descriptions):\n",
    "    # --- 1. Get SKU ---\n",
    "    sku = input(\"Enter product SKU (13 characters): \").strip()\n",
    "    if len(sku) != 13:\n",
    "        print(\"Error: SKU must be 13 characters long.\")\n",
    "        return product_details, sales_data, product_descriptions\n",
    "\n",
    "    # --- 2. Get sales data ---\n",
    "    sales_input = input(\"Enter sales data for the last 14 days (comma-separated 14 integers): \").strip()\n",
    "    try:\n",
    "        quantities = [int(x) for x in sales_input.split(\",\")]\n",
    "        if len(quantities) != 14:\n",
    "            print(\"Error: 14 integers required for sales data.\")\n",
    "            return product_details, sales_data, product_descriptions\n",
    "    except ValueError:\n",
    "        print(\"Error: Sales data must contain only integers.\")\n",
    "        return product_details, sales_data, product_descriptions\n",
    "\n",
    "    # --- 3. Get product details ---\n",
    "    name = input(\"Enter product name: \").strip()\n",
    "    brand = input(\"Enter product brand: \").strip()\n",
    "    model = input(\"Enter product model: \").strip()\n",
    "    specifications = input(\"Enter product specifications: \").strip()\n",
    "    price = input(\"Enter product price in USD: \").strip()\n",
    "    availability = input(\"Enter product availability: \").strip()\n",
    "\n",
    "    product_info = {\n",
    "        \"product_name\": name,\n",
    "        \"brand\": brand,\n",
    "        \"model\": model,\n",
    "        \"specifications\": specifications,\n",
    "        \"price\": price,\n",
    "        \"availability\": availability\n",
    "    }\n",
    "\n",
    "    # --- 4. Get product description ---\n",
    "    description = input(\"Enter product description: \").strip()\n",
    "\n",
    "    # --- 5. Update all dictionaries ---\n",
    "    sales_data = update_sales_data(sales_data, sku, quantities)\n",
    "    product_details = update_product_details(product_details, sku, product_info)\n",
    "    product_descriptions = update_product_description(product_descriptions, sku, description)\n",
    "\n",
    "    print(f\"Product {sku} added/updated successfully !\")\n",
    "\n",
    "    return product_details, sales_data, product_descriptions"
   ]
  },
  {
   "cell_type": "markdown",
   "metadata": {
    "id": "LEyahKVZCtpR"
   },
   "source": [
    "Check your code here."
   ]
  },
  {
   "cell_type": "code",
   "execution_count": 21,
   "metadata": {
    "id": "IxJZUWfX9Rgs"
   },
   "outputs": [
    {
     "name": "stdin",
     "output_type": "stream",
     "text": [
      "Enter product SKU (exactly 13 characters):  AISJDKFJW93NQ\n",
      "Enter sales data for the last 14 days (comma-separated 14 integers):  1,2,3,4,5,6,7,8,9,10,11,12,13,14\n",
      "Enter product name:  iPhone17\n",
      "Enter brand:  Apple\n",
      "Enter model:  Pro\n",
      "Enter specifications:  256GB\n",
      "Enter price:  49.9\n",
      "Enter availability:  In stock\n",
      "Enter product description:  iPhone 17 has a 48MP Fusion Main camera with a 2x optical-quality telephoto and a 48MP Fusion Ultra Wide camera with 4x the resolution of the Ultra Wide camera on iPhone 16. And now, Ultra Wide photos are 24MP by default, the perfect file size for high‑quality storing and sharing. So you’ll get stunning, super-high-resolution shots — up close or far away, indoors and out, in conditions that go from bright to low light. And at 256GB, it has double the starting storage of the previous model.5 So you can capture to your heart’s content — and beyond.\n"
     ]
    },
    {
     "name": "stdout",
     "output_type": "stream",
     "text": [
      "Product AISJDKFJW93NQ successfully added/updated!\n"
     ]
    }
   ],
   "source": [
    "product_details = {}\n",
    "sales_data = {}\n",
    "product_descriptions = {}\n",
    "product_details, sales_data, product_descriptions = update(product_details, sales_data, product_descriptions)"
   ]
  },
  {
   "cell_type": "markdown",
   "metadata": {
    "id": "q8WDGtEcj_Xn"
   },
   "source": [
    "## **3.** Save data to disk  <font color = red>[10 marks]</font>\n",
    "\n",
    "In the this stage, learners are tasked with creating a `dump_data()` function which will allow the newly modified files to be saved in their corresponding file formats: CSV for sales data, JSON for product details, and plain text (.txt) for product descriptions.\n",
    "\n"
   ]
  },
  {
   "cell_type": "markdown",
   "metadata": {
    "id": "ccFlC9OGdejQ"
   },
   "source": [
    "### **3.1** Save data to disk  <font color = red>[10 marks]</font>"
   ]
  },
  {
   "cell_type": "markdown",
   "metadata": {
    "id": "UqDs8HZ7dYZx"
   },
   "source": [
    "### Description\n",
    "In this task, learners are tasked with implementing a Python function named `dump_data()` that automates the process of persisting sales data, product details, and product descriptions into structured files within a specified directory. The function should efficiently organize and dump each type of data into its corresponding file format: CSV for sales data, JSON for product details, and plain text for product descriptions. This exercise challenges learners to apply file I/O operations, directory management, and data serialization techniques in Python, ensuring they gain practical experience with data persistence, manipulation, and organization on the filesystem."
   ]
  },
  {
   "cell_type": "code",
   "execution_count": 4,
   "metadata": {
    "id": "PMuHRcMELNoq"
   },
   "outputs": [],
   "source": [
    "def dump_data(sales_data, product_details, product_descriptions, main_folder):\n",
    "    # ---- 1. Update sales_data.csv ----\n",
    "    csv_path = os.path.join(main_folder, \"sales_data.csv\")\n",
    "    \n",
    "    # Read existing CSV (if exists)\n",
    "    existing_data = {}\n",
    "    if os.path.exists(csv_path):\n",
    "        with open(csv_path, \"r\") as f:\n",
    "            reader = csv.reader(f)\n",
    "            rows = list(reader)\n",
    "            if len(rows) > 1:\n",
    "                header, *data = rows\n",
    "                for row in data:\n",
    "                    existing_data[row[0]] = list(map(int, row[1:]))\n",
    "\n",
    "    # Update with new sales_data\n",
    "    existing_data.update(sales_data)\n",
    "\n",
    "    # Save CSV file\n",
    "    header = [\"Product_SKU\"] + [f\"Day {i}\" for i in range(1, 15)]\n",
    "    with open(csv_path, \"w\", newline=\"\") as f:\n",
    "        writer = csv.writer(f)\n",
    "        writer.writerow(header)\n",
    "        for sku, quantities in existing_data.items():\n",
    "            writer.writerow([sku] + quantities)\n",
    "\n",
    "    # ---- 2. Save product_details JSON files ----\n",
    "    details_folder = os.path.join(main_folder, \"product_details\")\n",
    "    os.makedirs(details_folder, exist_ok=True)\n",
    "    for sku, info in product_details.items():\n",
    "        file_path = os.path.join(details_folder, f\"details_{sku}.json\")\n",
    "        with open(file_path, \"w\") as f:\n",
    "            json.dump(info, f, indent=4)\n",
    "\n",
    "    # ---- 3. Save product_descriptions TXT files ----\n",
    "    desc_folder = os.path.join(main_folder, \"product_descriptions\")  # fixed folder name\n",
    "    os.makedirs(desc_folder, exist_ok=True)\n",
    "    for sku, desc in product_descriptions.items():\n",
    "        file_path = os.path.join(desc_folder, f\"description_{sku}.txt\")\n",
    "        with open(file_path, \"w\", encoding=\"utf-8\") as f:\n",
    "            f.write(desc)\n",
    "\n",
    "    print(\"All data successfully saved!\")\n"
   ]
  },
  {
   "cell_type": "markdown",
   "metadata": {
    "id": "Q0IRwQvIDAaB"
   },
   "source": [
    "Check your function here."
   ]
  },
  {
   "cell_type": "code",
   "execution_count": 26,
   "metadata": {
    "id": "JvvgYdPUDBf6"
   },
   "outputs": [
    {
     "name": "stdout",
     "output_type": "stream",
     "text": [
      "All data successfully saved!\n"
     ]
    }
   ],
   "source": [
    "dump_data(sales_data, product_details, product_descriptions, main_folder_address)"
   ]
  },
  {
   "cell_type": "markdown",
   "metadata": {
    "id": "3cjHZPLcBt4t"
   },
   "source": [
    "You will notice that *mainfolder* now has new files in the product descriptions/details subfolders, as well as new rows in *sales_data.csv* corresponding to the products that you created in stage 2, and while checking your code."
   ]
  }
 ],
 "metadata": {
  "colab": {
   "provenance": [],
   "toc_visible": true
  },
  "kernelspec": {
   "display_name": "Python [conda env:base] *",
   "language": "python",
   "name": "conda-base-py"
  },
  "language_info": {
   "codemirror_mode": {
    "name": "ipython",
    "version": 3
   },
   "file_extension": ".py",
   "mimetype": "text/x-python",
   "name": "python",
   "nbconvert_exporter": "python",
   "pygments_lexer": "ipython3",
   "version": "3.13.5"
  }
 },
 "nbformat": 4,
 "nbformat_minor": 4
}
